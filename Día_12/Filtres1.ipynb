{
  "nbformat": 4,
  "nbformat_minor": 0,
  "metadata": {
    "colab": {
      "name": "Filtres1.ipynb",
      "provenance": [],
      "collapsed_sections": [],
      "include_colab_link": true
    },
    "kernelspec": {
      "name": "python3",
      "display_name": "Python 3"
    },
    "language_info": {
      "name": "python"
    }
  },
  "cells": [
    {
      "cell_type": "markdown",
      "metadata": {
        "id": "view-in-github",
        "colab_type": "text"
      },
      "source": [
        "<a href=\"https://colab.research.google.com/github/Ivanbh214/30-Days-of-ML-Kaggle/blob/main/D%C3%ADa_12/Filtres1.ipynb\" target=\"_parent\"><img src=\"https://colab.research.google.com/assets/colab-badge.svg\" alt=\"Open In Colab\"/></a>"
      ]
    },
    {
      "cell_type": "code",
      "metadata": {
        "id": "BaJR3K2cX7ig"
      },
      "source": [
        "from random import choice \n",
        "\n",
        "llista = list(range(1, 21))\n",
        "\n",
        "filtre = [choice((True, False)) for _ in range(20)]"
      ],
      "execution_count": null,
      "outputs": []
    },
    {
      "cell_type": "code",
      "metadata": {
        "id": "oKn83ekXYqYc"
      },
      "source": [
        "z = zip(llista, filtre)\n",
        "\n",
        "filtrada = [elementLlista for elementLlista, elementFiltre in z if elementFiltre == True]"
      ],
      "execution_count": null,
      "outputs": []
    },
    {
      "cell_type": "code",
      "metadata": {
        "colab": {
          "base_uri": "https://localhost:8080/"
        },
        "id": "b1OKF_-zZwZL",
        "outputId": "964122f4-d961-4b4c-ad68-e94242d3639f"
      },
      "source": [
        "print(llista)\n",
        "print(filtre)\n",
        "print(filtrada)"
      ],
      "execution_count": null,
      "outputs": [
        {
          "output_type": "stream",
          "name": "stdout",
          "text": [
            "[1, 2, 3, 4, 5, 6, 7, 8, 9, 10, 11, 12, 13, 14, 15, 16, 17, 18, 19, 20]\n",
            "[True, True, False, False, False, False, True, False, True, True, True, False, True, True, False, True, False, True, True, True]\n",
            "[1, 2, 7, 9, 10, 11, 13, 14, 16, 18, 19, 20]\n"
          ]
        }
      ]
    },
    {
      "cell_type": "code",
      "metadata": {
        "id": "Kz8qIJQSaY8M"
      },
      "source": [
        "def esPrimer(n):\n",
        "  if n == 1: return False\n",
        "  for d in range(2, n):\n",
        "    if n % d == 0: return False\n",
        "  return True"
      ],
      "execution_count": null,
      "outputs": []
    },
    {
      "cell_type": "code",
      "metadata": {
        "colab": {
          "base_uri": "https://localhost:8080/"
        },
        "id": "e_vx-D47a3nR",
        "outputId": "f99ce72b-3d94-47b4-8d50-c7b2743710c9"
      },
      "source": [
        "for x in filter(esPrimer, llista): print(x)"
      ],
      "execution_count": null,
      "outputs": [
        {
          "output_type": "stream",
          "name": "stdout",
          "text": [
            "2\n",
            "3\n",
            "5\n",
            "7\n"
          ]
        }
      ]
    },
    {
      "cell_type": "code",
      "metadata": {
        "id": "h76Lozhba_WM"
      },
      "source": [
        "primers = list(filter(esPrimer, llista))"
      ],
      "execution_count": null,
      "outputs": []
    },
    {
      "cell_type": "code",
      "metadata": {
        "id": "JK8uJsjveujC",
        "colab": {
          "base_uri": "https://localhost:8080/"
        },
        "outputId": "7a322028-c17f-4129-90bf-1e3fa269b042"
      },
      "source": [
        "primers"
      ],
      "execution_count": null,
      "outputs": [
        {
          "output_type": "execute_result",
          "data": {
            "text/plain": [
              "[2, 3, 5, 7]"
            ]
          },
          "metadata": {},
          "execution_count": 42
        }
      ]
    },
    {
      "cell_type": "code",
      "metadata": {
        "colab": {
          "base_uri": "https://localhost:8080/"
        },
        "id": "OHaZw-SNbzaC",
        "outputId": "3f0b543e-c820-4c02-d30e-6590bbb3a62f"
      },
      "source": [
        "from random import choice\n",
        "\n",
        "\n",
        "def filtrarLlista(llista, filtre):\n",
        "    return [elementLlista for elementLlista, elementFiltre in zip(llista, filtre) if elementFiltre == True]\n",
        "\n",
        "def esPrimer(n):\n",
        "    if n == 1: return False\n",
        "    for possibleDivisor in range(2, int(n**.5) + 1):\n",
        "        if n % possibleDivisor == 0: return False\n",
        "    return True\n",
        "\n",
        "llista = list(range(1, 11))\n",
        "\n",
        "filtre = [choice((True, False)) for _ in range(10)]\n",
        "\n",
        "\n",
        "llistaFiltrada = [elementLlista for elementLlista, elementFiltre in zip(llista, filtre) if elementFiltre == True]\n",
        "\n",
        "print(\"Llista:\", llista)\n",
        "\n",
        "print(\"Filtre:\", filtre)\n",
        "\n",
        "print(\"Llista filtrada:\", llistaFiltrada)\n",
        "\n",
        "print(\"Llista filtrada:\", filtrarLlista(llista, filtre))\n",
        "\n",
        "print(\"Nombres primers seleccionats:\", list(filter(esPrimer, llista)))\n",
        "\n"
      ],
      "execution_count": null,
      "outputs": [
        {
          "output_type": "stream",
          "name": "stdout",
          "text": [
            "Llista: [1, 2, 3, 4, 5, 6, 7, 8, 9, 10]\n",
            "Filtre: [True, False, False, False, True, False, False, True, False, True]\n",
            "Llista filtrada: [1, 5, 8, 10]\n",
            "Llista filtrada: [1, 5, 8, 10]\n",
            "Nombres primers seleccionats: [2, 3, 5, 7]\n"
          ]
        }
      ]
    }
  ]
}